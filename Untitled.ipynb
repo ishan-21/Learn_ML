{
  "nbformat": 4,
  "nbformat_minor": 0,
  "metadata": {
    "colab": {
      "name": "Untitled",
      "provenance": [],
      "collapsed_sections": []
    },
    "kernelspec": {
      "name": "python3",
      "display_name": "Python 3"
    },
    "language_info": {
      "name": "python"
    }
  },
  "cells": [
    {
      "cell_type": "markdown",
      "metadata": {
        "id": "Xr95Vzj6LBmH"
      },
      "source": [
        "# Learn ML\n",
        "Through Learn ML we are bringing forward a new methodology to learn ML. This course rather than focussing just on the theory and the traditional way of teaching, focuses more on learning through examples. This problem solving approach of studying leads to a better understanding of real world applications.\n",
        "For the purpose of this project, we are using the Python language to write the code as python has some libraries like NumPy and pandas which we can harness to achieve various functionalities essential for a course like this one.\n",
        "\n"
      ]
    },
    {
      "cell_type": "markdown",
      "metadata": {
        "id": "oARyjosgLSST"
      },
      "source": [
        "# **Dependency Graph**\n",
        "To structure the project, we have made a dependency graph which allows the user to effectively study at their own pace and prerequisite specifications.\n",
        "This graph is made with the use of a python library known as graphviz.\n",
        "\n",
        "> A dependency graph is a network that presents the learning for a course by presenting a concept as a node. \n",
        "\n",
        "> Every node is connected to several other nodes depending on the prerequisites required to understand the concept.\n",
        "\n",
        "> Similarly, this node is then connected to several other nodes to form a sort of roadmap for the course. \n",
        "\n",
        "> Furthermore, each node is a hyperlink which leads to several examples required for understanding the concept.\n",
        "\n",
        "> This idea of a dependency network is basically based on the premise that knowledge is a network of connected nodes.\n"
      ]
    },
    {
      "cell_type": "markdown",
      "metadata": {
        "id": "AXeR4_J2La5b"
      },
      "source": [
        "**How to use this platform**\n",
        "\n",
        "There are two kinds of blocks in front of you. These are text blocks (such as the one where this is written) and there are code blocks which encapsulate the codes. For running a code block, you must remeber to run all the code blocks preceding it. "
      ]
    }
  ]
}